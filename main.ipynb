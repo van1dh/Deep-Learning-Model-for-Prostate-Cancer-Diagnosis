{
 "cells": [
  {
   "cell_type": "markdown",
   "id": "6f3c806a",
   "metadata": {},
   "source": [
    "# 基因数据分析"
   ]
  },
  {
   "cell_type": "markdown",
   "id": "4d3b02d1",
   "metadata": {},
   "source": [
    "加载python模块"
   ]
  },
  {
   "cell_type": "code",
   "execution_count": 523,
   "id": "c90a4f3f",
   "metadata": {},
   "outputs": [],
   "source": [
    "import numpy as np\n",
    "import pandas as pd\n",
    "import matplotlib.pyplot as plt\n",
    "from keras.utils.np_utils import to_categorical\n",
    "from keras.models import Sequential\n",
    "from keras.layers import Dense\n",
    "from keras.layers import Dropout\n",
    "from sklearn.metrics import confusion_matrix\n",
    "import seaborn as sns"
   ]
  },
  {
   "cell_type": "markdown",
   "id": "8158b8ac",
   "metadata": {},
   "source": [
    "定义必要的函数"
   ]
  },
  {
   "cell_type": "code",
   "execution_count": 524,
   "id": "99d320fb",
   "metadata": {},
   "outputs": [],
   "source": [
    "def decode(datum):\n",
    "    y = np.zeros((datum.shape[0],1))\n",
    "    for i in range(datum.shape[0]):\n",
    "        y[i] = np.argmax(datum[i])\n",
    "    return y\n",
    "def encode(datum):\n",
    "    return to_categorical(datum)"
   ]
  },
  {
   "cell_type": "markdown",
   "id": "70b85e7f",
   "metadata": {},
   "source": [
    "初始化网络参数和学习参数"
   ]
  },
  {
   "cell_type": "code",
   "execution_count": 525,
   "id": "a6143937",
   "metadata": {},
   "outputs": [],
   "source": [
    "np.random.seed(1)\n",
    "inner_activation_fun = 'relu'\n",
    "outer_activation_fun = 'softmax'\n",
    "optimizer_loss_fun   = 'binary_crossentropy'\n",
    "optimizer_algorithm  = 'sgd'\n",
    "number_inner_layers  = 5\n",
    "number_inner_neurons = [256,128,64,16,2]\n",
    "number_epoch         = 200\n",
    "batch_length         = 10\n",
    "show_inter_results   = 1"
   ]
  },
  {
   "cell_type": "markdown",
   "id": "33f7d0be",
   "metadata": {},
   "source": [
    "读入样本数据，每行一个样本。"
   ]
  },
  {
   "cell_type": "code",
   "execution_count": 526,
   "id": "476b6f97",
   "metadata": {},
   "outputs": [],
   "source": [
    "DataFrame_tr = pd.read_excel('genetest-1007.xls',sheet_name='B5-归一')  #训练数据 \n",
    "#DataFrame_tr = pd.read_excel('genetest-1007.xls',sheet_name='B3')  #训练数据 \n",
    "Data_tr = DataFrame_tr.iloc[0:,1:].values #test-18.xlsx中的数据在DataFrame中是从第二行第三列开始的\n",
    "Data_tr=Data_tr.astype(float)\n",
    "x = Data_tr[:,1:]                    #基因数据是从第二列开始的\n",
    "Label_tr = Data_tr[:,0]; Label_tr = Label_tr.astype(int); #类别（正常人/病患）数据在第一列\n",
    "y = encode(Label_tr)\n",
    "\n",
    "#DataFrame_v = pd.read_excel('genetest-0923.xls',sheet_name='B2-归一-后半')  #训练数据 \n",
    "#Data_v = DataFrame_v.iloc[0:,1:].values #test-18.xlsx中的数据在DataFrame中是从第二行第三列开始的\n",
    "#Data_v=Data_v.astype(float)\n",
    "#vx = Data_v[:,1:]                    #基因数据是从第二列开始的\n",
    "#Label_v = Data_v[:,0]; Label_v = Label_v.astype(int); #类别（正常人/病患）数据在第一列"
   ]
  },
  {
   "cell_type": "code",
   "execution_count": 527,
   "id": "6585bce6",
   "metadata": {},
   "outputs": [],
   "source": [
    "#搭建神经网络模型用训练数据训练，这是一个有三个隐层的全连接网络"
   ]
  },
  {
   "cell_type": "code",
   "execution_count": 528,
   "id": "e650145e",
   "metadata": {
    "scrolled": true
   },
   "outputs": [
    {
     "name": "stdout",
     "output_type": "stream",
     "text": [
      "Model: \"sequential_45\"\n",
      "_________________________________________________________________\n",
      " Layer (type)                Output Shape              Param #   \n",
      "=================================================================\n",
      " dense_270 (Dense)           (None, 256)               60928     \n",
      "                                                                 \n",
      " dense_271 (Dense)           (None, 128)               32896     \n",
      "                                                                 \n",
      " dense_272 (Dense)           (None, 64)                8256      \n",
      "                                                                 \n",
      " dropout_90 (Dropout)        (None, 64)                0         \n",
      "                                                                 \n",
      " dense_273 (Dense)           (None, 16)                1040      \n",
      "                                                                 \n",
      " dropout_91 (Dropout)        (None, 16)                0         \n",
      "                                                                 \n",
      " dense_274 (Dense)           (None, 2)                 34        \n",
      "                                                                 \n",
      " dense_275 (Dense)           (None, 2)                 6         \n",
      "                                                                 \n",
      "=================================================================\n",
      "Total params: 103,160\n",
      "Trainable params: 103,160\n",
      "Non-trainable params: 0\n",
      "_________________________________________________________________\n"
     ]
    }
   ],
   "source": [
    "model = Sequential()\n",
    "#for i in range(number_inner_layers):\n",
    "#    print(i)\n",
    "#    model.add(Dense(int(number_inner_neurons[i]), input_dim = x.shape[1], activation = inner_activation_fun))\n",
    "model.add(Dense(int(number_inner_neurons[0]), input_dim = x.shape[1], activation = inner_activation_fun))\n",
    "model.add(Dense(int(number_inner_neurons[1]), input_dim = x.shape[1], activation = inner_activation_fun))\n",
    "model.add(Dense(int(number_inner_neurons[2]), input_dim = x.shape[1], activation = inner_activation_fun))\n",
    "model.add(Dropout(0.3))\n",
    "model.add(Dense(int(number_inner_neurons[3]), input_dim = x.shape[1], activation = inner_activation_fun))\n",
    "model.add(Dropout(0.3))\n",
    "model.add(Dense(int(number_inner_neurons[4]), input_dim = x.shape[1], activation = inner_activation_fun))\n",
    "model.add(Dense(y.shape[1], activation = outer_activation_fun))\n",
    "model.compile(loss = optimizer_loss_fun, optimizer = optimizer_algorithm, metrics = ['accuracy'])\n",
    "model.summary()"
   ]
  },
  {
   "cell_type": "markdown",
   "id": "64d7de6a",
   "metadata": {},
   "source": [
    "绘制网络训练的代价曲线和准确率曲线"
   ]
  },
  {
   "cell_type": "code",
   "execution_count": 529,
   "id": "70ca3f51",
   "metadata": {},
   "outputs": [
    {
     "name": "stdout",
     "output_type": "stream",
     "text": [
      "Epoch 1/200\n",
      "10/10 [==============================] - 1s 4ms/step - loss: 0.6974 - accuracy: 0.5816\n",
      "Epoch 2/200\n",
      "10/10 [==============================] - 0s 4ms/step - loss: 0.6247 - accuracy: 0.7143\n",
      "Epoch 3/200\n",
      "10/10 [==============================] - 0s 4ms/step - loss: 0.6042 - accuracy: 0.7143\n",
      "Epoch 4/200\n",
      "10/10 [==============================] - 0s 3ms/step - loss: 0.5515 - accuracy: 0.7041\n",
      "Epoch 5/200\n",
      "10/10 [==============================] - 0s 4ms/step - loss: 0.5297 - accuracy: 0.8163\n",
      "Epoch 6/200\n",
      "10/10 [==============================] - 0s 4ms/step - loss: 0.4876 - accuracy: 0.7653\n",
      "Epoch 7/200\n",
      "10/10 [==============================] - 0s 5ms/step - loss: 0.4599 - accuracy: 0.8469\n",
      "Epoch 8/200\n",
      "10/10 [==============================] - 0s 4ms/step - loss: 0.4492 - accuracy: 0.8265\n",
      "Epoch 9/200\n",
      "10/10 [==============================] - 0s 7ms/step - loss: 0.4229 - accuracy: 0.8265\n",
      "Epoch 10/200\n",
      "10/10 [==============================] - 0s 3ms/step - loss: 0.4171 - accuracy: 0.8980\n",
      "Epoch 11/200\n",
      "10/10 [==============================] - 0s 5ms/step - loss: 0.3715 - accuracy: 0.8980\n",
      "Epoch 12/200\n",
      "10/10 [==============================] - 0s 4ms/step - loss: 0.3849 - accuracy: 0.8980\n",
      "Epoch 13/200\n",
      "10/10 [==============================] - 0s 4ms/step - loss: 0.3555 - accuracy: 0.8980\n",
      "Epoch 14/200\n",
      "10/10 [==============================] - 0s 4ms/step - loss: 0.3433 - accuracy: 0.9082\n",
      "Epoch 15/200\n",
      "10/10 [==============================] - 0s 4ms/step - loss: 0.3160 - accuracy: 0.8980\n",
      "Epoch 16/200\n",
      "10/10 [==============================] - 0s 4ms/step - loss: 0.3500 - accuracy: 0.9184\n",
      "Epoch 17/200\n",
      "10/10 [==============================] - 0s 4ms/step - loss: 0.2877 - accuracy: 0.9286\n",
      "Epoch 18/200\n",
      "10/10 [==============================] - 0s 4ms/step - loss: 0.2774 - accuracy: 0.9286\n",
      "Epoch 19/200\n",
      "10/10 [==============================] - 0s 4ms/step - loss: 0.2391 - accuracy: 0.9592\n",
      "Epoch 20/200\n",
      "10/10 [==============================] - 0s 4ms/step - loss: 0.2400 - accuracy: 0.9286\n",
      "Epoch 21/200\n",
      "10/10 [==============================] - 0s 4ms/step - loss: 0.2266 - accuracy: 0.9490\n",
      "Epoch 22/200\n",
      "10/10 [==============================] - 0s 4ms/step - loss: 0.2433 - accuracy: 0.9592\n",
      "Epoch 23/200\n",
      "10/10 [==============================] - 0s 4ms/step - loss: 0.2023 - accuracy: 0.9694\n",
      "Epoch 24/200\n",
      "10/10 [==============================] - 0s 4ms/step - loss: 0.2269 - accuracy: 0.9388\n",
      "Epoch 25/200\n",
      "10/10 [==============================] - 0s 4ms/step - loss: 0.1857 - accuracy: 0.9286\n",
      "Epoch 26/200\n",
      "10/10 [==============================] - 0s 4ms/step - loss: 0.2084 - accuracy: 0.9082\n",
      "Epoch 27/200\n",
      "10/10 [==============================] - 0s 4ms/step - loss: 0.1795 - accuracy: 0.9592\n",
      "Epoch 28/200\n",
      "10/10 [==============================] - 0s 4ms/step - loss: 0.1850 - accuracy: 0.9592\n",
      "Epoch 29/200\n",
      "10/10 [==============================] - 0s 4ms/step - loss: 0.2019 - accuracy: 0.9490\n",
      "Epoch 30/200\n",
      "10/10 [==============================] - 0s 4ms/step - loss: 0.1468 - accuracy: 0.9490\n",
      "Epoch 31/200\n",
      "10/10 [==============================] - 0s 4ms/step - loss: 0.1852 - accuracy: 0.9592\n",
      "Epoch 32/200\n",
      "10/10 [==============================] - 0s 4ms/step - loss: 0.1741 - accuracy: 0.9592\n",
      "Epoch 33/200\n",
      "10/10 [==============================] - 0s 4ms/step - loss: 0.1336 - accuracy: 0.9694\n",
      "Epoch 34/200\n",
      "10/10 [==============================] - 0s 4ms/step - loss: 0.1515 - accuracy: 0.9490\n",
      "Epoch 35/200\n",
      "10/10 [==============================] - 0s 4ms/step - loss: 0.1123 - accuracy: 0.9592\n",
      "Epoch 36/200\n",
      "10/10 [==============================] - 0s 4ms/step - loss: 0.1239 - accuracy: 0.9490\n",
      "Epoch 37/200\n",
      "10/10 [==============================] - 0s 4ms/step - loss: 0.1381 - accuracy: 0.9694\n",
      "Epoch 38/200\n",
      "10/10 [==============================] - 0s 4ms/step - loss: 0.1456 - accuracy: 0.9592\n",
      "Epoch 39/200\n",
      "10/10 [==============================] - 0s 4ms/step - loss: 0.1343 - accuracy: 0.9694\n",
      "Epoch 40/200\n",
      "10/10 [==============================] - 0s 5ms/step - loss: 0.1166 - accuracy: 0.9592\n",
      "Epoch 41/200\n",
      "10/10 [==============================] - 0s 4ms/step - loss: 0.0915 - accuracy: 0.9796\n",
      "Epoch 42/200\n",
      "10/10 [==============================] - 0s 4ms/step - loss: 0.0774 - accuracy: 0.9694\n",
      "Epoch 43/200\n",
      "10/10 [==============================] - 0s 4ms/step - loss: 0.1113 - accuracy: 0.9592\n",
      "Epoch 44/200\n",
      "10/10 [==============================] - 0s 4ms/step - loss: 0.1010 - accuracy: 0.9796\n",
      "Epoch 45/200\n",
      "10/10 [==============================] - 0s 4ms/step - loss: 0.1026 - accuracy: 0.9592\n",
      "Epoch 46/200\n",
      "10/10 [==============================] - 0s 4ms/step - loss: 0.1208 - accuracy: 0.9490\n",
      "Epoch 47/200\n",
      "10/10 [==============================] - 0s 4ms/step - loss: 0.0819 - accuracy: 0.9796\n",
      "Epoch 48/200\n",
      "10/10 [==============================] - 0s 4ms/step - loss: 0.0680 - accuracy: 0.9898\n",
      "Epoch 49/200\n",
      "10/10 [==============================] - 0s 4ms/step - loss: 0.0815 - accuracy: 0.9592\n",
      "Epoch 50/200\n",
      "10/10 [==============================] - 0s 4ms/step - loss: 0.0862 - accuracy: 0.9694\n",
      "Epoch 51/200\n",
      "10/10 [==============================] - 0s 4ms/step - loss: 0.0834 - accuracy: 0.9796\n",
      "Epoch 52/200\n",
      "10/10 [==============================] - 0s 4ms/step - loss: 0.1028 - accuracy: 0.9592\n",
      "Epoch 53/200\n",
      "10/10 [==============================] - 0s 4ms/step - loss: 0.0917 - accuracy: 0.9898\n",
      "Epoch 54/200\n",
      "10/10 [==============================] - 0s 4ms/step - loss: 0.0905 - accuracy: 0.9796\n",
      "Epoch 55/200\n",
      "10/10 [==============================] - 0s 4ms/step - loss: 0.0650 - accuracy: 0.9796\n",
      "Epoch 56/200\n",
      "10/10 [==============================] - 0s 4ms/step - loss: 0.0846 - accuracy: 0.9796\n",
      "Epoch 57/200\n",
      "10/10 [==============================] - 0s 4ms/step - loss: 0.0742 - accuracy: 0.9592\n",
      "Epoch 58/200\n",
      "10/10 [==============================] - 0s 4ms/step - loss: 0.0810 - accuracy: 0.9796\n",
      "Epoch 59/200\n",
      "10/10 [==============================] - 0s 4ms/step - loss: 0.0686 - accuracy: 0.9898\n",
      "Epoch 60/200\n",
      "10/10 [==============================] - 0s 4ms/step - loss: 0.0733 - accuracy: 0.9694\n",
      "Epoch 61/200\n",
      "10/10 [==============================] - 0s 4ms/step - loss: 0.0545 - accuracy: 0.9898\n",
      "Epoch 62/200\n",
      "10/10 [==============================] - 0s 4ms/step - loss: 0.0541 - accuracy: 0.9898\n",
      "Epoch 63/200\n",
      "10/10 [==============================] - 0s 4ms/step - loss: 0.0492 - accuracy: 1.0000\n",
      "Epoch 64/200\n",
      "10/10 [==============================] - 0s 4ms/step - loss: 0.0697 - accuracy: 1.0000\n",
      "Epoch 65/200\n",
      "10/10 [==============================] - 0s 4ms/step - loss: 0.0729 - accuracy: 0.9796\n",
      "Epoch 66/200\n",
      "10/10 [==============================] - 0s 4ms/step - loss: 0.0384 - accuracy: 1.0000\n",
      "Epoch 67/200\n",
      "10/10 [==============================] - 0s 5ms/step - loss: 0.0600 - accuracy: 1.0000\n",
      "Epoch 68/200\n",
      "10/10 [==============================] - 0s 4ms/step - loss: 0.0561 - accuracy: 1.0000\n",
      "Epoch 69/200\n",
      "10/10 [==============================] - 0s 4ms/step - loss: 0.0738 - accuracy: 0.9694\n",
      "Epoch 70/200\n",
      "10/10 [==============================] - 0s 4ms/step - loss: 0.0360 - accuracy: 0.9898\n",
      "Epoch 71/200\n",
      "10/10 [==============================] - 0s 4ms/step - loss: 0.0397 - accuracy: 1.0000\n",
      "Epoch 72/200\n",
      "10/10 [==============================] - 0s 4ms/step - loss: 0.0864 - accuracy: 0.9694\n",
      "Epoch 73/200\n",
      "10/10 [==============================] - 0s 4ms/step - loss: 0.0359 - accuracy: 0.9898\n",
      "Epoch 74/200\n",
      "10/10 [==============================] - 0s 4ms/step - loss: 0.0422 - accuracy: 1.0000\n",
      "Epoch 75/200\n",
      "10/10 [==============================] - 0s 4ms/step - loss: 0.0484 - accuracy: 1.0000\n",
      "Epoch 76/200\n",
      "10/10 [==============================] - 0s 4ms/step - loss: 0.0597 - accuracy: 0.9898\n",
      "Epoch 77/200\n",
      "10/10 [==============================] - 0s 4ms/step - loss: 0.0587 - accuracy: 0.9796\n",
      "Epoch 78/200\n",
      "10/10 [==============================] - 0s 4ms/step - loss: 0.0526 - accuracy: 0.9796\n",
      "Epoch 79/200\n",
      "10/10 [==============================] - 0s 4ms/step - loss: 0.0335 - accuracy: 0.9898\n",
      "Epoch 80/200\n",
      "10/10 [==============================] - 0s 4ms/step - loss: 0.0822 - accuracy: 0.9796\n",
      "Epoch 81/200\n",
      "10/10 [==============================] - 0s 6ms/step - loss: 0.0660 - accuracy: 0.9898\n",
      "Epoch 82/200\n",
      "10/10 [==============================] - 0s 4ms/step - loss: 0.0237 - accuracy: 1.0000\n",
      "Epoch 83/200\n"
     ]
    },
    {
     "name": "stdout",
     "output_type": "stream",
     "text": [
      "10/10 [==============================] - 0s 4ms/step - loss: 0.0430 - accuracy: 0.9898\n",
      "Epoch 84/200\n",
      "10/10 [==============================] - 0s 4ms/step - loss: 0.0580 - accuracy: 0.9694\n",
      "Epoch 85/200\n",
      "10/10 [==============================] - 0s 4ms/step - loss: 0.0591 - accuracy: 0.9898\n",
      "Epoch 86/200\n",
      "10/10 [==============================] - 0s 4ms/step - loss: 0.0455 - accuracy: 0.9898\n",
      "Epoch 87/200\n",
      "10/10 [==============================] - 0s 4ms/step - loss: 0.0415 - accuracy: 0.9796\n",
      "Epoch 88/200\n",
      "10/10 [==============================] - 0s 4ms/step - loss: 0.0464 - accuracy: 0.9796\n",
      "Epoch 89/200\n",
      "10/10 [==============================] - 0s 4ms/step - loss: 0.0634 - accuracy: 0.9796\n",
      "Epoch 90/200\n",
      "10/10 [==============================] - 0s 4ms/step - loss: 0.0350 - accuracy: 1.0000\n",
      "Epoch 91/200\n",
      "10/10 [==============================] - 0s 4ms/step - loss: 0.0304 - accuracy: 0.9898\n",
      "Epoch 92/200\n",
      "10/10 [==============================] - 0s 4ms/step - loss: 0.0470 - accuracy: 0.9796\n",
      "Epoch 93/200\n",
      "10/10 [==============================] - 0s 4ms/step - loss: 0.0445 - accuracy: 1.0000\n",
      "Epoch 94/200\n",
      "10/10 [==============================] - 0s 4ms/step - loss: 0.0555 - accuracy: 0.9796\n",
      "Epoch 95/200\n",
      "10/10 [==============================] - 0s 4ms/step - loss: 0.0231 - accuracy: 1.0000\n",
      "Epoch 96/200\n",
      "10/10 [==============================] - 0s 4ms/step - loss: 0.0404 - accuracy: 1.0000\n",
      "Epoch 97/200\n",
      "10/10 [==============================] - 0s 4ms/step - loss: 0.0481 - accuracy: 0.9898\n",
      "Epoch 98/200\n",
      "10/10 [==============================] - 0s 4ms/step - loss: 0.0225 - accuracy: 1.0000\n",
      "Epoch 99/200\n",
      "10/10 [==============================] - 0s 4ms/step - loss: 0.0202 - accuracy: 1.0000\n",
      "Epoch 100/200\n",
      "10/10 [==============================] - 0s 4ms/step - loss: 0.0348 - accuracy: 0.9898\n",
      "Epoch 101/200\n",
      "10/10 [==============================] - 0s 4ms/step - loss: 0.0414 - accuracy: 0.9898\n",
      "Epoch 102/200\n",
      "10/10 [==============================] - 0s 4ms/step - loss: 0.0348 - accuracy: 0.9898\n",
      "Epoch 103/200\n",
      "10/10 [==============================] - 0s 4ms/step - loss: 0.0603 - accuracy: 0.9898\n",
      "Epoch 104/200\n",
      "10/10 [==============================] - 0s 4ms/step - loss: 0.0362 - accuracy: 0.9898\n",
      "Epoch 105/200\n",
      "10/10 [==============================] - 0s 4ms/step - loss: 0.0374 - accuracy: 0.9898\n",
      "Epoch 106/200\n",
      "10/10 [==============================] - 0s 3ms/step - loss: 0.0136 - accuracy: 1.0000\n",
      "Epoch 107/200\n",
      "10/10 [==============================] - 0s 4ms/step - loss: 0.0345 - accuracy: 0.9898\n",
      "Epoch 108/200\n",
      "10/10 [==============================] - 0s 4ms/step - loss: 0.0235 - accuracy: 1.0000\n",
      "Epoch 109/200\n",
      "10/10 [==============================] - 0s 3ms/step - loss: 0.0188 - accuracy: 1.0000\n",
      "Epoch 110/200\n",
      "10/10 [==============================] - 0s 4ms/step - loss: 0.0138 - accuracy: 1.0000\n",
      "Epoch 111/200\n",
      "10/10 [==============================] - 0s 4ms/step - loss: 0.0208 - accuracy: 1.0000\n",
      "Epoch 112/200\n",
      "10/10 [==============================] - 0s 4ms/step - loss: 0.0239 - accuracy: 1.0000\n",
      "Epoch 113/200\n",
      "10/10 [==============================] - 0s 4ms/step - loss: 0.0317 - accuracy: 1.0000\n",
      "Epoch 114/200\n",
      "10/10 [==============================] - 0s 4ms/step - loss: 0.0423 - accuracy: 0.9898\n",
      "Epoch 115/200\n",
      "10/10 [==============================] - 0s 4ms/step - loss: 0.0149 - accuracy: 1.0000\n",
      "Epoch 116/200\n",
      "10/10 [==============================] - 0s 4ms/step - loss: 0.0146 - accuracy: 1.0000\n",
      "Epoch 117/200\n",
      "10/10 [==============================] - 0s 4ms/step - loss: 0.0252 - accuracy: 1.0000\n",
      "Epoch 118/200\n",
      "10/10 [==============================] - 0s 4ms/step - loss: 0.0339 - accuracy: 1.0000\n",
      "Epoch 119/200\n",
      "10/10 [==============================] - 0s 4ms/step - loss: 0.0134 - accuracy: 1.0000\n",
      "Epoch 120/200\n",
      "10/10 [==============================] - 0s 4ms/step - loss: 0.0362 - accuracy: 0.9898\n",
      "Epoch 121/200\n",
      "10/10 [==============================] - 0s 4ms/step - loss: 0.0318 - accuracy: 0.9898\n",
      "Epoch 122/200\n",
      "10/10 [==============================] - 0s 4ms/step - loss: 0.0524 - accuracy: 0.9796\n",
      "Epoch 123/200\n",
      "10/10 [==============================] - 0s 4ms/step - loss: 0.0208 - accuracy: 0.9898\n",
      "Epoch 124/200\n",
      "10/10 [==============================] - 0s 6ms/step - loss: 0.0192 - accuracy: 1.0000\n",
      "Epoch 125/200\n",
      "10/10 [==============================] - 0s 5ms/step - loss: 0.0173 - accuracy: 1.0000\n",
      "Epoch 126/200\n",
      "10/10 [==============================] - 0s 4ms/step - loss: 0.0246 - accuracy: 1.0000\n",
      "Epoch 127/200\n",
      "10/10 [==============================] - 0s 4ms/step - loss: 0.0181 - accuracy: 1.0000\n",
      "Epoch 128/200\n",
      "10/10 [==============================] - 0s 4ms/step - loss: 0.0463 - accuracy: 0.9898\n",
      "Epoch 129/200\n",
      "10/10 [==============================] - 0s 4ms/step - loss: 0.0235 - accuracy: 0.9898\n",
      "Epoch 130/200\n",
      "10/10 [==============================] - 0s 4ms/step - loss: 0.0146 - accuracy: 1.0000\n",
      "Epoch 131/200\n",
      "10/10 [==============================] - 0s 4ms/step - loss: 0.0177 - accuracy: 1.0000\n",
      "Epoch 132/200\n",
      "10/10 [==============================] - 0s 4ms/step - loss: 0.0363 - accuracy: 1.0000\n",
      "Epoch 133/200\n",
      "10/10 [==============================] - 0s 4ms/step - loss: 0.0181 - accuracy: 1.0000\n",
      "Epoch 134/200\n",
      "10/10 [==============================] - 0s 4ms/step - loss: 0.0123 - accuracy: 1.0000\n",
      "Epoch 135/200\n",
      "10/10 [==============================] - 0s 4ms/step - loss: 0.0272 - accuracy: 0.9898\n",
      "Epoch 136/200\n",
      "10/10 [==============================] - 0s 4ms/step - loss: 0.0327 - accuracy: 1.0000\n",
      "Epoch 137/200\n",
      "10/10 [==============================] - 0s 4ms/step - loss: 0.0376 - accuracy: 0.9898\n",
      "Epoch 138/200\n",
      "10/10 [==============================] - 0s 4ms/step - loss: 0.0238 - accuracy: 1.0000\n",
      "Epoch 139/200\n",
      "10/10 [==============================] - 0s 4ms/step - loss: 0.0130 - accuracy: 1.0000\n",
      "Epoch 140/200\n",
      "10/10 [==============================] - 0s 4ms/step - loss: 0.0233 - accuracy: 0.9898\n",
      "Epoch 141/200\n",
      "10/10 [==============================] - 0s 3ms/step - loss: 0.0235 - accuracy: 1.0000\n",
      "Epoch 142/200\n",
      "10/10 [==============================] - 0s 4ms/step - loss: 0.0278 - accuracy: 0.9898\n",
      "Epoch 143/200\n",
      "10/10 [==============================] - 0s 4ms/step - loss: 0.0619 - accuracy: 0.9694\n",
      "Epoch 144/200\n",
      "10/10 [==============================] - 0s 4ms/step - loss: 0.0074 - accuracy: 1.0000\n",
      "Epoch 145/200\n",
      "10/10 [==============================] - 0s 4ms/step - loss: 0.0281 - accuracy: 1.0000\n",
      "Epoch 146/200\n",
      "10/10 [==============================] - 0s 4ms/step - loss: 0.0168 - accuracy: 1.0000\n",
      "Epoch 147/200\n",
      "10/10 [==============================] - 0s 4ms/step - loss: 0.0385 - accuracy: 0.9796\n",
      "Epoch 148/200\n",
      "10/10 [==============================] - 0s 3ms/step - loss: 0.0127 - accuracy: 1.0000\n",
      "Epoch 149/200\n",
      "10/10 [==============================] - 0s 4ms/step - loss: 0.0535 - accuracy: 0.9694\n",
      "Epoch 150/200\n",
      "10/10 [==============================] - 0s 4ms/step - loss: 0.0221 - accuracy: 0.9898\n",
      "Epoch 151/200\n",
      "10/10 [==============================] - 0s 4ms/step - loss: 0.0098 - accuracy: 1.0000\n",
      "Epoch 152/200\n",
      "10/10 [==============================] - 0s 4ms/step - loss: 0.0197 - accuracy: 1.0000\n",
      "Epoch 153/200\n",
      "10/10 [==============================] - 0s 4ms/step - loss: 0.0396 - accuracy: 1.0000\n",
      "Epoch 154/200\n",
      "10/10 [==============================] - 0s 4ms/step - loss: 0.0522 - accuracy: 0.9796\n",
      "Epoch 155/200\n",
      "10/10 [==============================] - 0s 4ms/step - loss: 0.0246 - accuracy: 1.0000\n",
      "Epoch 156/200\n",
      "10/10 [==============================] - 0s 4ms/step - loss: 0.0188 - accuracy: 1.0000\n",
      "Epoch 157/200\n",
      "10/10 [==============================] - 0s 4ms/step - loss: 0.0084 - accuracy: 1.0000\n",
      "Epoch 158/200\n",
      "10/10 [==============================] - 0s 4ms/step - loss: 0.0099 - accuracy: 1.0000\n",
      "Epoch 159/200\n",
      "10/10 [==============================] - 0s 4ms/step - loss: 0.0084 - accuracy: 1.0000\n",
      "Epoch 160/200\n",
      "10/10 [==============================] - 0s 4ms/step - loss: 0.0037 - accuracy: 1.0000\n",
      "Epoch 161/200\n",
      "10/10 [==============================] - 0s 4ms/step - loss: 0.0259 - accuracy: 0.9898\n",
      "Epoch 162/200\n",
      "10/10 [==============================] - 0s 4ms/step - loss: 0.0148 - accuracy: 1.0000\n",
      "Epoch 163/200\n",
      "10/10 [==============================] - 0s 4ms/step - loss: 0.0107 - accuracy: 1.0000\n",
      "Epoch 164/200\n"
     ]
    },
    {
     "name": "stdout",
     "output_type": "stream",
     "text": [
      "10/10 [==============================] - 0s 4ms/step - loss: 0.0152 - accuracy: 1.0000\n",
      "Epoch 165/200\n",
      "10/10 [==============================] - 0s 4ms/step - loss: 0.0154 - accuracy: 1.0000\n",
      "Epoch 166/200\n",
      "10/10 [==============================] - 0s 4ms/step - loss: 0.0213 - accuracy: 0.9898\n",
      "Epoch 167/200\n",
      "10/10 [==============================] - 0s 4ms/step - loss: 0.0251 - accuracy: 0.9898\n",
      "Epoch 168/200\n",
      "10/10 [==============================] - 0s 4ms/step - loss: 0.0076 - accuracy: 1.0000\n",
      "Epoch 169/200\n",
      "10/10 [==============================] - 0s 4ms/step - loss: 0.0149 - accuracy: 1.0000\n",
      "Epoch 170/200\n",
      "10/10 [==============================] - 0s 4ms/step - loss: 0.0217 - accuracy: 1.0000\n",
      "Epoch 171/200\n",
      "10/10 [==============================] - 0s 3ms/step - loss: 0.0393 - accuracy: 0.9898\n",
      "Epoch 172/200\n",
      "10/10 [==============================] - 0s 4ms/step - loss: 0.0118 - accuracy: 1.0000\n",
      "Epoch 173/200\n",
      "10/10 [==============================] - 0s 4ms/step - loss: 0.0054 - accuracy: 1.0000\n",
      "Epoch 174/200\n",
      "10/10 [==============================] - 0s 4ms/step - loss: 0.0120 - accuracy: 1.0000\n",
      "Epoch 175/200\n",
      "10/10 [==============================] - 0s 4ms/step - loss: 0.0144 - accuracy: 1.0000\n",
      "Epoch 176/200\n",
      "10/10 [==============================] - 0s 4ms/step - loss: 0.0141 - accuracy: 1.0000\n",
      "Epoch 177/200\n",
      "10/10 [==============================] - 0s 4ms/step - loss: 0.0144 - accuracy: 1.0000\n",
      "Epoch 178/200\n",
      "10/10 [==============================] - 0s 3ms/step - loss: 0.0288 - accuracy: 1.0000\n",
      "Epoch 179/200\n",
      "10/10 [==============================] - 0s 4ms/step - loss: 0.0214 - accuracy: 0.9898\n",
      "Epoch 180/200\n",
      "10/10 [==============================] - 0s 4ms/step - loss: 0.0221 - accuracy: 0.9898\n",
      "Epoch 181/200\n",
      "10/10 [==============================] - 0s 4ms/step - loss: 0.0210 - accuracy: 1.0000\n",
      "Epoch 182/200\n",
      "10/10 [==============================] - 0s 4ms/step - loss: 0.0338 - accuracy: 0.9898\n",
      "Epoch 183/200\n",
      "10/10 [==============================] - 0s 4ms/step - loss: 0.0428 - accuracy: 0.9898\n",
      "Epoch 184/200\n",
      "10/10 [==============================] - 0s 4ms/step - loss: 0.0301 - accuracy: 0.9898\n",
      "Epoch 185/200\n",
      "10/10 [==============================] - 0s 4ms/step - loss: 0.0060 - accuracy: 1.0000\n",
      "Epoch 186/200\n",
      "10/10 [==============================] - 0s 4ms/step - loss: 0.0110 - accuracy: 1.0000\n",
      "Epoch 187/200\n",
      "10/10 [==============================] - 0s 4ms/step - loss: 0.0022 - accuracy: 1.0000\n",
      "Epoch 188/200\n",
      "10/10 [==============================] - 0s 4ms/step - loss: 0.0053 - accuracy: 1.0000\n",
      "Epoch 189/200\n",
      "10/10 [==============================] - 0s 4ms/step - loss: 0.0131 - accuracy: 0.9898\n",
      "Epoch 190/200\n",
      "10/10 [==============================] - 0s 4ms/step - loss: 0.0041 - accuracy: 1.0000\n",
      "Epoch 191/200\n",
      "10/10 [==============================] - 0s 4ms/step - loss: 0.0212 - accuracy: 0.9898\n",
      "Epoch 192/200\n",
      "10/10 [==============================] - 0s 4ms/step - loss: 0.0044 - accuracy: 1.0000\n",
      "Epoch 193/200\n",
      "10/10 [==============================] - 0s 4ms/step - loss: 0.0340 - accuracy: 0.9898\n",
      "Epoch 194/200\n",
      "10/10 [==============================] - 0s 4ms/step - loss: 0.0110 - accuracy: 1.0000\n",
      "Epoch 195/200\n",
      "10/10 [==============================] - 0s 4ms/step - loss: 0.0235 - accuracy: 0.9898\n",
      "Epoch 196/200\n",
      "10/10 [==============================] - 0s 3ms/step - loss: 0.0161 - accuracy: 0.9898\n",
      "Epoch 197/200\n",
      "10/10 [==============================] - 0s 4ms/step - loss: 0.0279 - accuracy: 0.9898\n",
      "Epoch 198/200\n",
      "10/10 [==============================] - 0s 4ms/step - loss: 0.0194 - accuracy: 0.9898\n",
      "Epoch 199/200\n",
      "10/10 [==============================] - 0s 4ms/step - loss: 0.0137 - accuracy: 0.9898\n",
      "Epoch 200/200\n",
      "10/10 [==============================] - 0s 4ms/step - loss: 0.0172 - accuracy: 1.0000\n"
     ]
    }
   ],
   "source": [
    "train_history = model.fit(x, y, epochs = number_epoch, batch_size = batch_length, verbose = show_inter_results)"
   ]
  },
  {
   "cell_type": "code",
   "execution_count": 530,
   "id": "529bece9",
   "metadata": {},
   "outputs": [
    {
     "data": {
      "image/png": "[encoded data removed]",
      "text/plain": [
       "<Figure size 432x288 with 1 Axes>"
      ]
     },
     "metadata": {
      "needs_background": "light"
     },
     "output_type": "display_data"
    },
    {
     "data": {
      "text/plain": [
       "<Figure size 432x288 with 0 Axes>"
      ]
     },
     "metadata": {},
     "output_type": "display_data"
    }
   ],
   "source": [
    "%matplotlib inline\n",
    "plt.plot(train_history.history['loss'], label='loss')\n",
    "plt.plot(train_history.history['accuracy'], label='accuracy')\n",
    "plt.xlabel('epoch')\n",
    "plt.legend()\n",
    "plt.show()\n",
    "plt.savefig('l-a.png')"
   ]
  },
  {
   "cell_type": "code",
   "execution_count": 531,
   "id": "d0bbbef8",
   "metadata": {},
   "outputs": [],
   "source": [
    "#loss= train_history.history['loss']\n",
    "#val_loss = train_history.history['val_loss']\n",
    "#plt.plot(loss, label='loss')\n",
    "#plt.plot(val_loss, label='val_loss')\n",
    "#plt.title('model loss')\n",
    "#plt.ylabel('loss')\n",
    "#plt.xlabel('epoch')\n",
    "#plt.legend(['train', 'valid'], loc='upper left')\n",
    "#plt.show()\n",
    "#plt.savefig('loss.png')"
   ]
  },
  {
   "cell_type": "code",
   "execution_count": null,
   "id": "9c129270",
   "metadata": {},
   "outputs": [],
   "source": []
  },
  {
   "cell_type": "code",
   "execution_count": 532,
   "id": "f3f78fd4",
   "metadata": {
    "scrolled": true
   },
   "outputs": [
    {
     "name": "stdout",
     "output_type": "stream",
     "text": [
      "[[1.00000000e+00 6.21375726e-25]\n",
      " [8.26038613e-11 1.00000000e+00]\n",
      " [2.06779038e-11 1.00000000e+00]\n",
      " [1.00000000e+00 1.60802240e-17]\n",
      " [3.84000693e-15 1.00000000e+00]\n",
      " [9.99977469e-01 2.25650183e-05]\n",
      " [1.00000000e+00 5.94244411e-21]\n",
      " [1.00000000e+00 1.39851302e-18]\n",
      " [1.00000000e+00 2.79229298e-30]\n",
      " [1.98481662e-10 1.00000000e+00]\n",
      " [1.22905303e-05 9.99987721e-01]\n",
      " [2.65866305e-11 1.00000000e+00]\n",
      " [5.62520872e-05 9.99943733e-01]\n",
      " [4.61344733e-17 1.00000000e+00]\n",
      " [1.00000000e+00 4.17765052e-14]\n",
      " [9.04008150e-02 9.09599245e-01]\n",
      " [2.41885978e-09 1.00000000e+00]\n",
      " [1.00000000e+00 1.52076831e-31]\n",
      " [4.25277267e-06 9.99995708e-01]\n",
      " [1.00000000e+00 8.72834360e-24]\n",
      " [3.52318452e-11 1.00000000e+00]\n",
      " [1.00000000e+00 7.35608554e-25]\n",
      " [1.25269434e-10 1.00000000e+00]\n",
      " [1.00000000e+00 1.50602968e-12]\n",
      " [1.00000000e+00 1.64015729e-24]\n",
      " [1.00000000e+00 1.12399512e-16]\n",
      " [1.00000000e+00 1.10260947e-14]\n",
      " [1.00000000e+00 2.79133653e-21]\n",
      " [1.91890695e-16 1.00000000e+00]\n",
      " [4.56451066e-21 1.00000000e+00]\n",
      " [1.00000000e+00 4.67902747e-16]\n",
      " [3.63892944e-10 1.00000000e+00]\n",
      " [1.95548411e-10 1.00000000e+00]\n",
      " [9.80606858e-14 1.00000000e+00]\n",
      " [5.63537203e-11 1.00000000e+00]\n",
      " [2.17847073e-12 1.00000000e+00]\n",
      " [1.00000000e+00 8.81156090e-28]\n",
      " [3.05590667e-16 1.00000000e+00]\n",
      " [1.00000000e+00 5.42331691e-16]\n",
      " [7.71876879e-16 1.00000000e+00]\n",
      " [1.00000000e+00 1.38737914e-28]\n",
      " [2.63357803e-12 1.00000000e+00]\n",
      " [9.99990582e-01 9.40323298e-06]\n",
      " [1.00000000e+00 3.39240036e-09]\n",
      " [1.60401845e-10 1.00000000e+00]\n",
      " [2.33324773e-08 1.00000000e+00]\n",
      " [7.50056683e-11 1.00000000e+00]\n",
      " [9.48653906e-04 9.99051392e-01]\n",
      " [1.28887234e-10 1.00000000e+00]\n",
      " [1.00000000e+00 1.41528326e-12]\n",
      " [1.99117436e-04 9.99800861e-01]\n",
      " [1.67471786e-10 1.00000000e+00]\n",
      " [5.21547463e-08 1.00000000e+00]\n",
      " [9.72174525e-01 2.78255083e-02]\n",
      " [1.48307893e-13 1.00000000e+00]\n",
      " [1.00000000e+00 6.03565693e-28]\n",
      " [1.00000000e+00 2.13880071e-17]\n",
      " [3.23963865e-13 1.00000000e+00]\n",
      " [1.70926126e-13 1.00000000e+00]\n",
      " [9.99999762e-01 1.80538464e-07]\n",
      " [1.00000000e+00 2.98481017e-23]\n",
      " [1.00000000e+00 1.36262354e-19]\n",
      " [4.43481623e-16 1.00000000e+00]\n",
      " [9.89379245e-09 1.00000000e+00]\n",
      " [1.00000000e+00 2.10263539e-36]\n",
      " [3.65924091e-09 1.00000000e+00]\n",
      " [9.61190572e-11 1.00000000e+00]\n",
      " [1.19972366e-14 1.00000000e+00]\n",
      " [1.55483555e-08 1.00000000e+00]\n",
      " [6.45098016e-13 1.00000000e+00]\n",
      " [1.00000000e+00 2.69485318e-24]\n",
      " [1.00000000e+00 6.86891407e-22]\n",
      " [1.07520194e-10 1.00000000e+00]\n",
      " [1.00000000e+00 2.01531120e-18]\n",
      " [6.82228362e-12 1.00000000e+00]\n",
      " [7.87043445e-13 1.00000000e+00]\n",
      " [1.63357683e-08 1.00000000e+00]\n",
      " [2.88859951e-06 9.99997139e-01]\n",
      " [1.22821318e-08 1.00000000e+00]\n",
      " [5.24426866e-07 9.99999523e-01]\n",
      " [1.00000000e+00 3.03059796e-13]\n",
      " [1.83673128e-05 9.99981642e-01]\n",
      " [1.00000000e+00 6.04283879e-30]\n",
      " [6.54608113e-18 1.00000000e+00]\n",
      " [2.48852900e-11 1.00000000e+00]\n",
      " [1.00000000e+00 2.04209662e-24]\n",
      " [2.15016126e-19 1.00000000e+00]\n",
      " [5.17624316e-18 1.00000000e+00]\n",
      " [1.00000000e+00 2.57260635e-15]\n",
      " [8.99035891e-13 1.00000000e+00]\n",
      " [4.92408484e-01 5.07591486e-01]\n",
      " [1.06073747e-10 1.00000000e+00]\n",
      " [1.00000000e+00 4.80859547e-13]\n",
      " [1.00000000e+00 2.03107531e-10]\n",
      " [1.00000000e+00 3.79080850e-10]\n",
      " [2.18216757e-16 1.00000000e+00]\n",
      " [8.30350834e-19 1.00000000e+00]\n",
      " [1.00000000e+00 8.14367019e-29]]\n"
     ]
    }
   ],
   "source": [
    "# 用测试数据测试\n",
    "#\n",
    "DataFrame_t = pd.read_excel('genetest-1007-tx.xls', sheet_name='B2-归一')  #测试数据\n",
    "#DataFrame_t = pd.read_excel('genetest-1007-tx.xls', sheet_name='B5')  #测试数据\n",
    "Data_t = DataFrame_t.iloc[0:,1:].values #test-18.xlsx中的数据在DataFrame中是从第二行第三列开始的\n",
    "Data_t=Data_t.astype(float)\n",
    "tx = Data_t[:,1:]                    #基因数据是从第二列开始的   测试数据\n",
    "Label_t = Data_t[:,0]; Label_t = Label_t.astype(int); #类别（正常人/病患）数据在第一列\n",
    "ty = encode(Label_t)\n",
    "#test_history = model.fit(tx, ty, epochs = number_epoch, batch_size = batch_length, verbose = show_inter_results)\n",
    "\n",
    "#test_history=model.fit(tx, ty, epochs = number_epoch, batch_size = batch_length,verbose = show_inter_results)\n",
    "#scores = model.evaluate(tx, ty,verbose = show_inter_results)\n",
    "y_pred_tx = model.predict(tx)\n",
    "print(y_pred_tx)"
   ]
  },
  {
   "cell_type": "code",
   "execution_count": 533,
   "id": "c59fe3f8",
   "metadata": {
    "scrolled": false
   },
   "outputs": [
    {
     "name": "stdout",
     "output_type": "stream",
     "text": [
      "[[39  0]\n",
      " [ 1 58]]\n",
      "tp,fp,fn,tn= 39 1 0 58\n"
     ]
    },
    {
     "data": {
      "image/png": "[encoded data removed]",
      "text/plain": [
       "<Figure size 432x288 with 2 Axes>"
      ]
     },
     "metadata": {},
     "output_type": "display_data"
    }
   ],
   "source": [
    "y_value= np.zeros(ty.shape[0])\n",
    "y_value_1= np.zeros(ty.shape[0])\n",
    "y_pred_v= np.zeros(ty.shape[0])\n",
    "y_pred_v1= np.zeros(ty.shape[0])\n",
    "for i in range(ty.shape[0]):\n",
    "    y_value[i]=(decode(ty)[i][0])\n",
    "    y_value_1[i]=(ty[i][0])\n",
    "for i in range(ty.shape[0]):\n",
    "    y_pred_v[i]=(decode(y_pred_tx)[i][0])\n",
    "    y_pred_v1[i]=(y_pred_tx[i][0])\n",
    "    \n",
    "sns.set()\n",
    "f,ax = plt.subplots()\n",
    "C2=confusion_matrix(y_value,y_pred_v)\n",
    "print(C2)\n",
    "sns.heatmap(C2,annot=True,ax=ax)\n",
    "\n",
    "ax.set_title('confusion matrix')\n",
    "ax.set_xlabel('predict')\n",
    "ax.set_ylabel('true')\n",
    "print (f\"tp,fp,fn,tn=\",C2[0][0],C2[1][0],C2[0][1],C2[1][1])"
   ]
  },
  {
   "cell_type": "code",
   "execution_count": 534,
   "id": "83da5a15",
   "metadata": {},
   "outputs": [
    {
     "data": {
      "image/png": "[encoded data removed]",
      "text/plain": [
       "<Figure size 432x288 with 1 Axes>"
      ]
     },
     "metadata": {},
     "output_type": "display_data"
    }
   ],
   "source": [
    "from sklearn.metrics import roc_curve, auc\n",
    "#fpr, tpr, thersholds = roc_curve( y_value_1, y_pred_v1)\n",
    "fpr, tpr, thersholds = roc_curve( Label_t, y_pred_v)\n",
    "roc_auc = auc(fpr, tpr)\n",
    " \n",
    "plt.plot(fpr, tpr, label='ROC (area = {0:.2f})'.format(roc_auc))\n",
    " \n",
    "plt.xlim([-0.05, 1.05]) \n",
    "plt.ylim([-0.05, 1.05])\n",
    "plt.xlabel('False Positive Rate')\n",
    "plt.ylabel('True Positive Rate') \n",
    "plt.title('ROC Curve')\n",
    "plt.legend(loc=\"lower right\")\n",
    "plt.show()"
   ]
  },
  {
   "cell_type": "code",
   "execution_count": 535,
   "id": "0edc7d86",
   "metadata": {},
   "outputs": [
    {
     "name": "stdout",
     "output_type": "stream",
     "text": [
      "Confusion Matrix:\n",
      " [[39  0]\n",
      " [ 0 59]]\n"
     ]
    },
    {
     "data": {
      "text/plain": [
       "Text(30.5, 0.5, 'true')"
      ]
     },
     "execution_count": 535,
     "metadata": {},
     "output_type": "execute_result"
    },
    {
     "data": {
      "image/png": "[encoded data removed]",
      "text/plain": [
       "<Figure size 432x288 with 2 Axes>"
      ]
     },
     "metadata": {},
     "output_type": "display_data"
    }
   ],
   "source": [
    "from sklearn.linear_model import LogisticRegression\n",
    "logistic_reg_model = LogisticRegression(max_iter=1000)\n",
    "logistic_reg_model.fit(tx, Label_t)\n",
    "y_pred_log = logistic_reg_model.predict(tx)\n",
    "conf_matrix = confusion_matrix(Label_t, y_pred_log) \n",
    "print(\"Confusion Matrix:\\n\", conf_matrix)\n",
    "\n",
    "sns.set()\n",
    "f,ax = plt.subplots()\n",
    "sns.heatmap(conf_matrix,annot=True,ax=ax)\n",
    "\n",
    "ax.set_title('confusion matrix')\n",
    "ax.set_xlabel('predict')\n",
    "ax.set_ylabel('true')"
   ]
  },
  {
   "cell_type": "code",
   "execution_count": 536,
   "id": "548fbf67",
   "metadata": {},
   "outputs": [
    {
     "name": "stdout",
     "output_type": "stream",
     "text": [
      "Confusion Matrix:\n",
      " [[39  0]\n",
      " [ 0 59]]\n"
     ]
    },
    {
     "data": {
      "text/plain": [
       "Text(30.5, 0.5, 'true')"
      ]
     },
     "execution_count": 536,
     "metadata": {},
     "output_type": "execute_result"
    },
    {
     "data": {
      "image/png": "[encoded data removed]",
      "text/plain": [
       "<Figure size 432x288 with 2 Axes>"
      ]
     },
     "metadata": {},
     "output_type": "display_data"
    }
   ],
   "source": [
    "from sklearn.linear_model import RidgeClassifier\n",
    "logistic_reg_model =RidgeClassifier()\n",
    "logistic_reg_model.fit(tx, Label_t)\n",
    "y_pred_rid = logistic_reg_model.predict(tx)\n",
    "conf_matrix = confusion_matrix(Label_t, y_pred_rid) \n",
    "print(\"Confusion Matrix:\\n\", conf_matrix)\n",
    "\n",
    "\n",
    "\n",
    "sns.set()\n",
    "f,ax = plt.subplots()\n",
    "sns.heatmap(conf_matrix,annot=True,ax=ax)\n",
    "\n",
    "ax.set_title('confusion matrix')\n",
    "ax.set_xlabel('predict')\n",
    "ax.set_ylabel('true')"
   ]
  },
  {
   "cell_type": "code",
   "execution_count": 537,
   "id": "44683241",
   "metadata": {},
   "outputs": [
    {
     "name": "stdout",
     "output_type": "stream",
     "text": [
      "Confusion Matrix:\n",
      " [[39  0]\n",
      " [ 0 59]]\n"
     ]
    },
    {
     "data": {
      "text/plain": [
       "Text(30.5, 0.5, 'true')"
      ]
     },
     "execution_count": 537,
     "metadata": {},
     "output_type": "execute_result"
    },
    {
     "data": {
      "image/png": "[encoded data removed]",
      "text/plain": [
       "<Figure size 432x288 with 2 Axes>"
      ]
     },
     "metadata": {},
     "output_type": "display_data"
    }
   ],
   "source": [
    "from sklearn.naive_bayes import GaussianNB\n",
    "model_g =GaussianNB()\n",
    "model_g.fit(tx, Label_t)\n",
    "y_pred_g = model_g.predict(tx)\n",
    "conf_matrix = confusion_matrix(Label_t, y_pred_g) \n",
    "print(\"Confusion Matrix:\\n\", conf_matrix)\n",
    "\n",
    "sns.set()\n",
    "f,ax = plt.subplots()\n",
    "sns.heatmap(conf_matrix,annot=True,ax=ax)\n",
    "\n",
    "ax.set_title('confusion matrix')\n",
    "ax.set_xlabel('predict')\n",
    "ax.set_ylabel('true')"
   ]
  },
  {
   "cell_type": "code",
   "execution_count": 538,
   "id": "7b99dd56",
   "metadata": {},
   "outputs": [
    {
     "name": "stdout",
     "output_type": "stream",
     "text": [
      "Confusion Matrix:\n",
      " [[39  0]\n",
      " [ 0 59]]\n"
     ]
    },
    {
     "data": {
      "text/plain": [
       "Text(30.5, 0.5, 'true')"
      ]
     },
     "execution_count": 538,
     "metadata": {},
     "output_type": "execute_result"
    },
    {
     "data": {
      "image/png": "[encoded data removed]",
      "text/plain": [
       "<Figure size 432x288 with 2 Axes>"
      ]
     },
     "metadata": {},
     "output_type": "display_data"
    }
   ],
   "source": [
    "from sklearn.tree import DecisionTreeClassifier\n",
    "model_d =DecisionTreeClassifier()\n",
    "model_d.fit(tx, Label_t)\n",
    "y_pred_d = model_d.predict(tx)\n",
    "conf_matrix = confusion_matrix(Label_t, y_pred_d) \n",
    "print(\"Confusion Matrix:\\n\", conf_matrix)\n",
    "\n",
    "sns.set()\n",
    "f,ax = plt.subplots()\n",
    "sns.heatmap(conf_matrix,annot=True,ax=ax)\n",
    "\n",
    "ax.set_title('confusion matrix')\n",
    "ax.set_xlabel('predict')\n",
    "ax.set_ylabel('true')"
   ]
  },
  {
   "cell_type": "code",
   "execution_count": null,
   "id": "9ac2fcdf",
   "metadata": {},
   "outputs": [],
   "source": []
  },
  {
   "cell_type": "code",
   "execution_count": null,
   "id": "9c744cca",
   "metadata": {},
   "outputs": [],
   "source": []
  },
  {
   "cell_type": "code",
   "execution_count": null,
   "id": "36658c90",
   "metadata": {},
   "outputs": [],
   "source": []
  },
  {
   "cell_type": "code",
   "execution_count": null,
   "id": "4b8c7404",
   "metadata": {},
   "outputs": [],
   "source": []
  }
 ],
 "metadata": {
  "kernelspec": {
   "display_name": "Python 3 (ipykernel)",
   "language": "python",
   "name": "python3"
  },
  "language_info": {
   "codemirror_mode": {
    "name": "ipython",
    "version": 3
   },
   "file_extension": ".py",
   "mimetype": "text/x-python",
   "name": "python",
   "nbconvert_exporter": "python",
   "pygments_lexer": "ipython3",
   "version": "3.9.5"
  }
 },
 "nbformat": 4,
 "nbformat_minor": 5
}
